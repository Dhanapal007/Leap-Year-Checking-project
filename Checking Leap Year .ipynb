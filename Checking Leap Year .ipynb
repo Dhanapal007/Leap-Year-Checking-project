{
 "cells": [
  {
   "cell_type": "code",
   "execution_count": null,
   "id": "b092c0c1",
   "metadata": {},
   "outputs": [],
   "source": [
    "LEAP YEAR OR NOT"
   ]
  },
  {
   "cell_type": "code",
   "execution_count": 2,
   "id": "5803e65b",
   "metadata": {},
   "outputs": [
    {
     "name": "stdout",
     "output_type": "stream",
     "text": [
      "enter the year2021\n",
      "2021 is not leap year\n"
     ]
    }
   ],
   "source": [
    "def year(y):\n",
    "    if y%4==0:\n",
    "        if y%100==0: #checking it's a century year or not\n",
    "            if y%400==0:# if it'sdivisible by 400 it's a leap year \n",
    "                print(f\"{y} is the leap year \")\n",
    "            else:\n",
    "                print(f\"{y} is not a leap year\")\n",
    "        else:\n",
    "            print(f\"{y} is a leap year\")\n",
    "    else:\n",
    "        print(f\"{y} is not leap year\")\n",
    "n=int(input(\"enter the year\"))\n",
    "y=n\n",
    "year(y)"
   ]
  },
  {
   "cell_type": "code",
   "execution_count": null,
   "id": "3f8c8cab",
   "metadata": {},
   "outputs": [],
   "source": [
    "LIST OF LEAP AND NOT LEAP YEARS"
   ]
  },
  {
   "cell_type": "code",
   "execution_count": 4,
   "id": "3fc1bea2",
   "metadata": {},
   "outputs": [
    {
     "name": "stdout",
     "output_type": "stream",
     "text": [
      "1980 is a leap year\n",
      "1981 is not leap year\n",
      "1982 is not leap year\n",
      "1983 is not leap year\n",
      "1984 is a leap year\n",
      "1985 is not leap year\n",
      "1986 is not leap year\n",
      "1987 is not leap year\n",
      "1988 is a leap year\n",
      "1989 is not leap year\n",
      "1990 is not leap year\n",
      "1991 is not leap year\n",
      "1992 is a leap year\n",
      "1993 is not leap year\n",
      "1994 is not leap year\n",
      "1995 is not leap year\n",
      "1996 is a leap year\n",
      "1997 is not leap year\n",
      "1998 is not leap year\n",
      "1999 is not leap year\n",
      "2000 is the leap year \n",
      "2001 is not leap year\n",
      "2002 is not leap year\n",
      "2003 is not leap year\n",
      "2004 is a leap year\n",
      "2005 is not leap year\n",
      "2006 is not leap year\n",
      "2007 is not leap year\n",
      "2008 is a leap year\n",
      "2009 is not leap year\n",
      "2010 is not leap year\n",
      "2011 is not leap year\n",
      "2012 is a leap year\n",
      "2013 is not leap year\n",
      "2014 is not leap year\n",
      "2015 is not leap year\n",
      "2016 is a leap year\n",
      "2017 is not leap year\n",
      "2018 is not leap year\n",
      "2019 is not leap year\n",
      "2020 is a leap year\n",
      "2021 is not leap year\n"
     ]
    }
   ],
   "source": [
    "def year(start,end):\n",
    "    for y in range(start,end+1):\n",
    "        if y%4==0:\n",
    "            if y%100==0:#checking it's a century year or not\n",
    "                if y%400==0:# if it'sdivisible by 400 it's a leap year\n",
    "                    print(f\"{y} is the leap year \")\n",
    "                else:\n",
    "                    print(f\"{y} is not a leap year\")\n",
    "            else:\n",
    "                print(f\"{y} is a leap year\")\n",
    "        else:\n",
    "            print(f\"{y} is not leap year\")\n",
    "\n",
    "year(1980,2021)"
   ]
  },
  {
   "cell_type": "code",
   "execution_count": null,
   "id": "050a0b09",
   "metadata": {},
   "outputs": [],
   "source": [
    "LIST OF LEAP YEARS "
   ]
  },
  {
   "cell_type": "code",
   "execution_count": 5,
   "id": "f97f88d6",
   "metadata": {},
   "outputs": [
    {
     "name": "stdout",
     "output_type": "stream",
     "text": [
      "1980 is a leap year\n",
      "1984 is a leap year\n",
      "1988 is a leap year\n",
      "1992 is a leap year\n",
      "1996 is a leap year\n",
      "2000 is a leap year \n",
      "2004 is a leap year\n",
      "2008 is a leap year\n",
      "2012 is a leap year\n",
      "2016 is a leap year\n",
      "2020 is a leap year\n"
     ]
    }
   ],
   "source": [
    "def year(start,end):\n",
    "    for y in range(start,end+1):\n",
    "        if y%4==0:\n",
    "            if y%100==0:#checking it's a century year or not\n",
    "                if y%400==0:# if it'sdivisible by 400 it's a leap year\n",
    "                    print(f\"{y} is a leap year \")\n",
    "            else:\n",
    "                print(f\"{y} is a leap year\")\n",
    "year(1980,2021)"
   ]
  },
  {
   "cell_type": "code",
   "execution_count": null,
   "id": "23164d15",
   "metadata": {},
   "outputs": [],
   "source": []
  }
 ],
 "metadata": {
  "kernelspec": {
   "display_name": "Python 3 (ipykernel)",
   "language": "python",
   "name": "python3"
  },
  "language_info": {
   "codemirror_mode": {
    "name": "ipython",
    "version": 3
   },
   "file_extension": ".py",
   "mimetype": "text/x-python",
   "name": "python",
   "nbconvert_exporter": "python",
   "pygments_lexer": "ipython3",
   "version": "3.9.4"
  }
 },
 "nbformat": 4,
 "nbformat_minor": 5
}
